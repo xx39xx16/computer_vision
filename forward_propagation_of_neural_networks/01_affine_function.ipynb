{
  "nbformat": 4,
  "nbformat_minor": 0,
  "metadata": {
    "colab": {
      "provenance": [],
      "authorship_tag": "ABX9TyNPDmOHiZ2X0+5N5QX2PGCx",
      "include_colab_link": true
    },
    "kernelspec": {
      "name": "python3",
      "display_name": "Python 3"
    },
    "language_info": {
      "name": "python"
    }
  },
  "cells": [
    {
      "cell_type": "markdown",
      "metadata": {
        "id": "view-in-github",
        "colab_type": "text"
      },
      "source": [
        "<a href=\"https://colab.research.google.com/github/xx39xx16/computer_vision/blob/main/forward_propagation_of_neural_networks/01_affine_function.ipynb\" target=\"_parent\"><img src=\"https://colab.research.google.com/assets/colab-badge.svg\" alt=\"Open In Colab\"/></a>"
      ]
    },
    {
      "cell_type": "code",
      "source": [
        "### Affine Function"
      ],
      "metadata": {
        "id": "mBM78krMWb87"
      },
      "execution_count": null,
      "outputs": []
    },
    {
      "cell_type": "code",
      "source": [
        "import tensorflow as tf\n",
        "from tensorflow.keras.layers import Dense\n",
        "\n",
        "x = tf.constant([[10.]]) # input setting (Note : input -> matrix)\n",
        "print(x)\n",
        "\n",
        "dense = Dense(units = 1, activation = 'linear') # 하나만 만들거라서. imp.an affine function\n",
        "\n",
        "y_tf = dense(x)  # forward propagation + params initialization // dense에 w,b 가지고 있는데 이거 z 계산하는 거 의미\n",
        "\n",
        "W, B = dense.get_weights() ## y_tf랑 순서를 바꾸면 오류가 뜸 // # get weight and bias\n",
        "\n",
        "#print(W,B)\n",
        "\n",
        "y_man = tf.linalg.matmul(x,W) + B #forward propagation (manual)\n",
        "\n",
        "\n",
        "\n",
        "#print results\n",
        "\n",
        "print('======= Input / Weight / Bias =======')\n",
        "print(\"x : {}\\n{}\\n\".format(x.shape, x.numpy()))\n",
        "print(\"W : {}\\n{}\\n\".format(W.shape, W))\n",
        "print(\"B : {}\\n{}\\n\".format(B.shape, B))\n",
        "\n",
        "print('======= Output ======')\n",
        "print(\"y(Tensorflow): {}\\n{}\\n\".format(y_tf.shape, y_tf.numpy()))\n",
        "print(\"y(manual): {}\\n{}\\n\".format(y_man.shape, y_man.numpy()))"
      ],
      "metadata": {
        "colab": {
          "base_uri": "https://localhost:8080/"
        },
        "id": "D6gCmi_mLQvX",
        "outputId": "e3eb765a-4523-44f3-f6b6-798013190703"
      },
      "execution_count": null,
      "outputs": [
        {
          "output_type": "stream",
          "name": "stdout",
          "text": [
            "tf.Tensor([[10.]], shape=(1, 1), dtype=float32)\n",
            "======= Input / Weight / Bias =======\n",
            "x : (1, 1)\n",
            "[[10.]]\n",
            "\n",
            "W : (1, 1)\n",
            "[[-1.7258697]]\n",
            "\n",
            "B : (1,)\n",
            "[0.]\n",
            "\n",
            "======= Output ======\n",
            "y(Tensorflow): (1, 1)\n",
            "[[-17.258698]]\n",
            "\n",
            "y(manual): (1, 1)\n",
            "[[-17.258698]]\n",
            "\n"
          ]
        }
      ]
    },
    {
      "cell_type": "code",
      "execution_count": null,
      "metadata": {
        "id": "nAU_W1yfLO53"
      },
      "outputs": [],
      "source": [
        "### parameter initialization\n"
      ]
    },
    {
      "cell_type": "code",
      "source": [
        "import tensorflow as tf\n",
        "\n",
        "from tensorflow.keras.layers import Dense\n",
        "from tensorflow.keras.initializers import Constant # 내가 원하는 값으로 이니셜라이제이션을 해줄거야\n",
        "\n",
        "\n",
        "x = tf.constant([[10.]]) # input setting (Note : input -> matrix)\n",
        "\n",
        "# weight/ bias setting\n",
        "\n",
        "w,b = tf.constant(10.), tf.constant(20.)\n",
        "w_init, b_init = Constant(w), Constant(b)\n",
        "\n",
        "# imp. affine function\n",
        "\n",
        "\n",
        "dense = Dense(units = 1,\n",
        "              activation = 'linear',\n",
        "              kernel_initializer = w_init,\n",
        "              bias_initializer = b_init)\n",
        "\n",
        "y_tf = dense(x)\n",
        "print(y_tf)\n",
        "\n",
        "W, B = dense.get_weights()\n",
        "\n",
        "# print results\n",
        "print(\"W : {}\\n\\n\".format(W.shape, W))\n",
        "print(\"B : {}\\n\\n\".format(B.shape, B))"
      ],
      "metadata": {
        "colab": {
          "base_uri": "https://localhost:8080/"
        },
        "id": "JP0dQQ7LZ9rp",
        "outputId": "a7db5211-a5c4-42cb-ba42-45a3bd1ae1dc"
      },
      "execution_count": null,
      "outputs": [
        {
          "output_type": "stream",
          "name": "stdout",
          "text": [
            "tf.Tensor([[120.]], shape=(1, 1), dtype=float32)\n",
            "W : (1, 1)\n",
            "\n",
            "\n",
            "B : (1,)\n",
            "\n",
            "\n"
          ]
        }
      ]
    },
    {
      "cell_type": "code",
      "source": [
        "### Affine functions with n Features"
      ],
      "metadata": {
        "id": "QtMMOw_vbMKq"
      },
      "execution_count": null,
      "outputs": []
    },
    {
      "cell_type": "code",
      "source": [
        "import tensorflow as tf\n",
        "from tensorflow.keras.layers import Dense\n",
        "\n",
        "x = tf.random.uniform(shape = (1,10), minval = 0, maxval=10)\n",
        "\n",
        "print(x.shape, '\\n', x)\n",
        "\n",
        "dense = Dense(units = 1)\n",
        "\n",
        "y_tf = dense(x) # 알아서 웨이트랑 바이어스가 몇 갠지 계산해줌\n",
        "\n",
        "W, B = dense.get_weights()\n",
        "y_man - tf.linalg.matmul(x, W) + B\n",
        "\n",
        "\n",
        "#print results\n",
        "\n",
        "print('======= Input / Weight / Bias =======')\n",
        "print(\"x : {}\\n{}\\n\".format(x.shape, x.numpy()))\n",
        "print(\"W : {}\\n{}\\n\".format(W.shape, W))\n",
        "print(\"B : {}\\n{}\\n\".format(B.shape, B))\n",
        "\n",
        "print('======= Output ======')\n",
        "print(\"y(Tensorflow): {}\\n{}\\n\".format(y_tf.shape, y_tf.numpy()))\n",
        "print(\"y(manual): {}\\n{}\\n\".format(y_man.shape, y_man.numpy()))"
      ],
      "metadata": {
        "colab": {
          "base_uri": "https://localhost:8080/"
        },
        "id": "pefmMKp_ej_z",
        "outputId": "a68ff32e-78eb-4082-a475-b29af886be94"
      },
      "execution_count": null,
      "outputs": [
        {
          "output_type": "stream",
          "name": "stdout",
          "text": [
            "(1, 10) \n",
            " tf.Tensor(\n",
            "[[5.1688538  1.7068446  6.5093637  0.25049925 7.5844107  5.0117326\n",
            "  5.337287   0.73206186 3.6853027  2.2227764 ]], shape=(1, 10), dtype=float32)\n",
            "======= Input / Weight / Bias =======\n",
            "x : (1, 10)\n",
            "[[5.1688538  1.7068446  6.5093637  0.25049925 7.5844107  5.0117326\n",
            "  5.337287   0.73206186 3.6853027  2.2227764 ]]\n",
            "\n",
            "W : (10, 1)\n",
            "[[-0.13652712]\n",
            " [ 0.7054443 ]\n",
            " [-0.45094952]\n",
            " [-0.4066856 ]\n",
            " [-0.27654663]\n",
            " [ 0.25717688]\n",
            " [ 0.220711  ]\n",
            " [-0.43945214]\n",
            " [-0.25550145]\n",
            " [ 0.00905478]]\n",
            "\n",
            "B : (1,)\n",
            "[0.]\n",
            "\n",
            "======= Output ======\n",
            "y(Tensorflow): (1, 1)\n",
            "[[-3.4125967]]\n",
            "\n",
            "y(manual): (1, 1)\n",
            "[[-17.258698]]\n",
            "\n"
          ]
        }
      ]
    },
    {
      "cell_type": "code",
      "source": [],
      "metadata": {
        "id": "TSEUg7bXerdT"
      },
      "execution_count": null,
      "outputs": []
    }
  ]
}