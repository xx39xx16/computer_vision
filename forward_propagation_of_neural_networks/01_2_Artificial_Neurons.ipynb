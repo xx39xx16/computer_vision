{
  "nbformat": 4,
  "nbformat_minor": 0,
  "metadata": {
    "colab": {
      "provenance": [],
      "authorship_tag": "ABX9TyOplvZMle3i4ao1+wG8Mbwz",
      "include_colab_link": true
    },
    "kernelspec": {
      "name": "python3",
      "display_name": "Python 3"
    },
    "language_info": {
      "name": "python"
    }
  },
  "cells": [
    {
      "cell_type": "markdown",
      "metadata": {
        "id": "view-in-github",
        "colab_type": "text"
      },
      "source": [
        "<a href=\"https://colab.research.google.com/github/xx39xx16/computer_vision/blob/main/forward_propagation_of_neural_networks/01_2_Artificial_Neurons.ipynb\" target=\"_parent\"><img src=\"https://colab.research.google.com/assets/colab-badge.svg\" alt=\"Open In Colab\"/></a>"
      ]
    },
    {
      "cell_type": "code",
      "execution_count": 1,
      "metadata": {
        "id": "RabyIDcQllQo"
      },
      "outputs": [],
      "source": [
        "### activation function"
      ]
    },
    {
      "cell_type": "code",
      "source": [
        "#affine function과 activation function이 보통 붙어있는데 그렇지 않은 경우도 있기 때문에 activation function만 만드는 방법도 알아야 함"
      ],
      "metadata": {
        "id": "iIgb4hBalnQA"
      },
      "execution_count": 2,
      "outputs": []
    },
    {
      "cell_type": "code",
      "source": [
        "import tensorflow as tf\n",
        "from tensorflow.math import exp, maximum\n",
        "from tensorflow.keras.layers import Activation\n",
        "\n",
        "x = tf.random.normal(shape = (1,5)) # input setting\n",
        "\n",
        "# imp. activation function\n",
        "\n",
        "sigmoid = Activation('sigmoid') # 시그모이드 펑션이 하나 만들어짐\n",
        "tanh = Activation('tanh')\n",
        "relu = Activation('relu')\n",
        "\n",
        "# forward propagation\n",
        "y_sigmoid_tf = sigmoid(x)\n",
        "y_tanh_tf = tanh(x)\n",
        "y_relu_tf = relu(x)\n",
        "\n",
        "#forward propagation(manual)\n",
        "\n",
        "y_sigmoid_man = 1 / (1 + exp(-x))\n",
        "y_tanh_man = (exp(x)  - exp(-x))/ (exp(x) + exp(-x))\n",
        "y_relu_man = maximum(x,0)\n",
        "\n",
        "print(\"x : {}\\n{}\".format(x.shape, x.numpy()))\n",
        "print(\"Sigmoid(Tensorflow) : {}\\n{}\".format(y_sigmoid_tf.shape, y_sigmoid_tf.numpy()))\n",
        "print(\"Sigmoid(manual) : {}\\n{}\".format(y_sigmoid_man.shape, y_sigmoid_man.numpy()))\n",
        "\n",
        "print(\"Tanh(Tensorflow) : {}\\n{}\".format(y_tanh_tf.shape,y_tanh_tf.numpy()))\n",
        "print(\"Tanh(manual) : {}\\n{}\".format(y_tanh_man.shape,y_tanh_man.numpy()))\n",
        "\n",
        "print(\"ReLu(Tensorflow) : {}\\n{}\".format(y_relu_tf.shape,y_relu_tf.numpy()))\n",
        "print(\"ReLu(manual) : {}\\n{}\".format(y_relu_man.shape,y_relu_man.numpy()))"
      ],
      "metadata": {
        "colab": {
          "base_uri": "https://localhost:8080/"
        },
        "id": "aSQdm_cEl7vK",
        "outputId": "2901880b-11ec-40aa-9c27-d7e91fe07511"
      },
      "execution_count": 9,
      "outputs": [
        {
          "output_type": "stream",
          "name": "stdout",
          "text": [
            "x : (1, 5)\n",
            "[[ 1.1003492   1.7455133  -0.06907587 -1.2625792   0.6519807 ]]\n",
            "Sigmoid(Tensorflow) : (1, 5)\n",
            "[[0.7503255  0.851386   0.48273787 0.22053023 0.6574567 ]]\n",
            "Sigmoid(manual) : (1, 5)\n",
            "[[0.75032556 0.8513861  0.4827379  0.22053023 0.6574567 ]]\n",
            "Tanh(Tensorflow) : (1, 5)\n",
            "[[ 0.8006244   0.9408626  -0.06896621 -0.8517736   0.57300186]]\n",
            "Tanh(manual) : (1, 5)\n",
            "[[ 0.80062443  0.9408628  -0.06896621 -0.85177356  0.57300186]]\n",
            "ReLu(Tensorflow) : (1, 5)\n",
            "[[1.1003492 1.7455133 0.        0.        0.6519807]]\n",
            "ReLu(manual) : (1, 5)\n",
            "[[1.1003492 1.7455133 0.        0.        0.6519807]]\n"
          ]
        }
      ]
    },
    {
      "cell_type": "code",
      "source": [
        " ### activation in dense layer"
      ],
      "metadata": {
        "id": "zFbRLnW6nQm9"
      },
      "execution_count": 10,
      "outputs": []
    },
    {
      "cell_type": "code",
      "source": [
        "import tensorflow as tf\n",
        "from tensorflow.math import exp\n",
        "from tensorflow.keras.layers import Dense\n",
        "\n",
        "x = tf.random.normal(shape = (1,5)) # input setting\n",
        "\n",
        "#imp. artificial neurons\n",
        "\n",
        "dense_sigmoid = Dense(units = 1, activation = 'sigmoid')\n",
        "dense_tanh = Dense(units = 1, activation = 'tanh')\n",
        "dense_relu = Dense(units = 1, activation = 'relu')\n",
        "\n",
        "# forward propagation\n",
        "y_sigmoid = dense_sigmoid(x)\n",
        "y_tanh = dense_tanh(x)\n",
        "y_relu = dense_relu(x)\n",
        "\n",
        "print(\"AN with Sigmoid : {}\\n{}\".format(y_sigmoid.shape, y_sigmoid.numpy()))\n",
        "print(\"AN with Tanh : {}\\n{}\".format(y_tanh.shape, y_tanh.numpy()))\n",
        "print(\"AN with ReLu : {}\\n{}\".format(y_relu.shape, y_relu.numpy()))\n",
        "\n",
        "#forward propagation(manual)\n",
        "\n",
        "print('\\n==============\\n')\n",
        "W, B = dense_sigmoid.get_weights()\n",
        "z = tf.linalg.matmul(x, W) + B\n",
        "a = 1 / (1 + exp(-z))\n",
        "\n",
        "print(\"Activation value (Tensorflow) : {}\\n{}\".format(y_sigmoid.shape, y_sigmoid.numpy()))\n",
        "print(\"Activation value (manual) : {}\\n{}\".format(a.shape, a.numpy()))"
      ],
      "metadata": {
        "colab": {
          "base_uri": "https://localhost:8080/"
        },
        "id": "tSRpYHlUoznR",
        "outputId": "5eb1388c-b72a-45d0-be24-071adb62ff1b"
      },
      "execution_count": 12,
      "outputs": [
        {
          "output_type": "stream",
          "name": "stdout",
          "text": [
            "AN with Sigmoid : (1, 1)\n",
            "[[0.8465323]]\n",
            "AN with Tanh : (1, 1)\n",
            "[[-0.81162846]]\n",
            "AN with ReLu : (1, 1)\n",
            "[[1.723201]]\n"
          ]
        }
      ]
    },
    {
      "cell_type": "code",
      "source": [
        "### minibatches"
      ],
      "metadata": {
        "id": "KYBsrBY_pr6r"
      },
      "execution_count": 14,
      "outputs": []
    },
    {
      "cell_type": "code",
      "source": [
        "# shapes of dense layers"
      ],
      "metadata": {
        "id": "x43Gkt0IsYeX"
      },
      "execution_count": null,
      "outputs": []
    },
    {
      "cell_type": "code",
      "source": [
        "import tensorflow as tf\n",
        "from tensorflow.keras.layers import Dense\n",
        "N,n_feature = 8, 10 #set imput param , 웨이트와 바이어스에 영향 미치지 않음\n",
        "x = tf.random.normal(shape = (N, n_feature)) #generate minibatch\n",
        "print(x.shape)\n",
        "\n",
        "dense = Dense(units =1, activation = 'relu')\n",
        "y = dense(x) # forward propagation\n",
        "\n",
        "W,B = dense.get_weights() # get weight/ bias\n",
        "\n",
        "# print results\n",
        "print(\"Shape of x : \", x.shape)\n",
        "print(\"Shape of W : \", W.shape)\n",
        "print(\"Shape of B : \", B.shape)\n"
      ],
      "metadata": {
        "colab": {
          "base_uri": "https://localhost:8080/"
        },
        "id": "ysQm1TpesPYj",
        "outputId": "9bbee51f-1a50-4368-dd64-1276a1448cb1"
      },
      "execution_count": 19,
      "outputs": [
        {
          "output_type": "stream",
          "name": "stdout",
          "text": [
            "(8, 10)\n",
            "Shape of x :  (8, 10)\n",
            "Shape of W :  (10, 1)\n",
            "Shape of B :  (1,)\n"
          ]
        }
      ]
    },
    {
      "cell_type": "code",
      "source": [
        "import tensorflow as tf\n",
        "from tensorflow.keras.layers import Dense\n",
        "\n",
        "N,n_feature = 8, 10 #set imput param , 웨이트와 바이어스에 영향 미치지 않음\n",
        "x = tf.random.normal(shape = (N, n_feature)) #generate minibatch\n",
        "\n",
        "dense = Dense(units =1, activation = 'sigmoid') # import an AN\n",
        "y_tf = dense(x) # forward propagation(Tensorflow)\n",
        "\n",
        "W, B = dense.get_weights()\n",
        "y_man = tf.linalg.matmul(x, W) + B # forward propagation(Manual)\n",
        "y_man = 1/ (1 + tf.math.exp(-y_man))\n",
        "\n",
        "#print resuluts\n",
        "\n",
        "print(\"Output(Tensorflow): \\n\", y_tf.numpy())\n",
        "print(\"Output(Manual): \\n\", y_man.numpy())"
      ],
      "metadata": {
        "colab": {
          "base_uri": "https://localhost:8080/"
        },
        "id": "lYksJOEZsrMQ",
        "outputId": "83c5e6b3-926e-4052-a7be-806c006795e6"
      },
      "execution_count": 23,
      "outputs": [
        {
          "output_type": "stream",
          "name": "stdout",
          "text": [
            "Output(Tensorflow): \n",
            " [[0.25052088]\n",
            " [0.29046327]\n",
            " [0.8771275 ]\n",
            " [0.6287617 ]\n",
            " [0.35221905]\n",
            " [0.5464455 ]\n",
            " [0.77021074]\n",
            " [0.9324029 ]]\n",
            "Output(Manual): \n",
            " [[0.25052088]\n",
            " [0.29046327]\n",
            " [0.8771276 ]\n",
            " [0.62876165]\n",
            " [0.35221905]\n",
            " [0.5464455 ]\n",
            " [0.77021074]\n",
            " [0.9324029 ]]\n"
          ]
        }
      ]
    },
    {
      "cell_type": "code",
      "source": [],
      "metadata": {
        "id": "FhuwNQrxur-C"
      },
      "execution_count": null,
      "outputs": []
    }
  ]
}