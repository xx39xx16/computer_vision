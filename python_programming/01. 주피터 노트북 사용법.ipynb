{
 "cells": [
  {
   "cell_type": "markdown",
   "id": "c84f4195",
   "metadata": {},
   "source": [
    "# Hello python\n",
    "## Hello python\n",
    "### Hello python"
   ]
  },
  {
   "cell_type": "markdown",
   "id": "baf2e31d",
   "metadata": {},
   "source": [
    "a = 10\n",
    "print(a)"
   ]
  },
  {
   "cell_type": "markdown",
   "id": "f3df826b",
   "metadata": {},
   "source": [
    "**python** is really *cooool*\n",
    "\n",
    "- python\n",
    "    - pandas\n",
    "    - numpy \n",
    "    - 이런 식으로 소제목을 만들 수 있다 \n",
    "- java\n",
    "- c++\n",
    "- golang\n",
    "\n",
    "1. python\n",
    "2. java\n",
    "3. c++\n",
    "\n",
    "\n",
    "> 파이썬은 재밌다고 하더라 ... ( > 이걸 쓰면 인용구가 된다)\n",
    "\n",
    "$y = 3x$\n",
    "\n",
    "[파이썬 공식 페이지](https://www.python.org/)\n"
   ]
  },
  {
   "cell_type": "markdown",
   "id": "efcfaca7",
   "metadata": {},
   "source": [
    "a = 10\n",
    "print(a)\n",
    "\n",
    "## 명령모드 일경우 esc 누르면 됨 이때 h를 누르면 단축키가 나오는데 \n",
    "## a -> 위에 셀 추가 b-> 밑에 셀 추카 d 두번 -> 해당 셀 삭제"
   ]
  },
  {
   "cell_type": "code",
   "execution_count": null,
   "id": "47029555",
   "metadata": {},
   "outputs": [],
   "source": []
  }
 ],
 "metadata": {
  "kernelspec": {
   "display_name": "Python 3 (ipykernel)",
   "language": "python",
   "name": "python3"
  },
  "language_info": {
   "codemirror_mode": {
    "name": "ipython",
    "version": 3
   },
   "file_extension": ".py",
   "mimetype": "text/x-python",
   "name": "python",
   "nbconvert_exporter": "python",
   "pygments_lexer": "ipython3",
   "version": "3.11.5"
  }
 },
 "nbformat": 4,
 "nbformat_minor": 5
}
