{
 "cells": [
  {
   "cell_type": "markdown",
   "metadata": {},
   "source": [
    "## 학습목표\n",
    " 1. list, tuple에 대해 이해 및 실습\n"
   ]
  },
  {
   "cell_type": "markdown",
   "metadata": {},
   "source": [
    "### **리스트 & 튜플**\n",
    " * 복수개의 값을 담을 수 있는 데이터 구조\n",
    " * 실생활에서 사용하는 리스트(학생 리스트, 성적 리스트 등등)과 동일한 의미로 이해\n",
    " * list - mutable    (생성된 후에 변경 가능)  \n",
    " * tuple - immutable (생성된 후에 변경 불가능)  "
   ]
  },
  {
   "cell_type": "markdown",
   "metadata": {},
   "source": [
    "#### **리스트 초기화**\n",
    " - [] 안에 값을 담아서 생성\n",
    " - list() 함수로 생성\n",
    " - str.split()함수로 생성"
   ]
  },
  {
   "cell_type": "code",
   "execution_count": 1,
   "metadata": {},
   "outputs": [
    {
     "name": "stdout",
     "output_type": "stream",
     "text": [
      "[]\n"
     ]
    }
   ],
   "source": [
    "a = []\n",
    "print(a)"
   ]
  },
  {
   "cell_type": "code",
   "execution_count": 2,
   "metadata": {},
   "outputs": [
    {
     "name": "stdout",
     "output_type": "stream",
     "text": [
      "[1, 2, 3, 4, 5]\n"
     ]
    }
   ],
   "source": [
    "a = [1,2,3,4,5]\n",
    "print(a)"
   ]
  },
  {
   "cell_type": "code",
   "execution_count": 3,
   "metadata": {},
   "outputs": [
    {
     "name": "stdout",
     "output_type": "stream",
     "text": [
      "['korea', 'canada', 1, 23, [34, 56]]\n"
     ]
    }
   ],
   "source": [
    "a = ['korea','canada', 1, 23, [34,56]]\n",
    "print(a)"
   ]
  },
  {
   "cell_type": "markdown",
   "metadata": {},
   "source": [
    "* **list() 함수**\n",
    " + 다른 데이터 타입을 리스트로 변환할 때도 사용"
   ]
  },
  {
   "cell_type": "code",
   "execution_count": 4,
   "metadata": {},
   "outputs": [
    {
     "name": "stdout",
     "output_type": "stream",
     "text": [
      "['h', 'e', 'l', 'l', 'o', ' ', 'w', 'o', 'r', 'l', 'd']\n"
     ]
    }
   ],
   "source": [
    "a = 'hello world'\n",
    "b = list(a)\n",
    "print(b) #문자열 리스트를 만들어줌 "
   ]
  },
  {
   "cell_type": "markdown",
   "metadata": {},
   "source": [
    "+ **string split 함수**\n",
    " * 구분자로 구분되는 리스트를 반환 (빈번히 사용 됨)"
   ]
  },
  {
   "cell_type": "code",
   "execution_count": 5,
   "metadata": {},
   "outputs": [
    {
     "name": "stdout",
     "output_type": "stream",
     "text": [
      "['hello', 'world', 'nice', 'weather']\n"
     ]
    }
   ],
   "source": [
    "a = 'hello world nice weather'\n",
    "b = a.split()\n",
    "\n",
    "print(b)"
   ]
  },
  {
   "cell_type": "markdown",
   "metadata": {},
   "source": [
    "#### **리스트 indexing**\n",
    " * 문자열의 인덱싱과 동일하게 동작\n",
    " * [] 연산자를 이용하여 항목 얻어오기\n",
    " * [i] - i번째 원소를 반환\n",
    " * i가 음수인 경우도 가능하며 마지막원소가 -1로 하여 앞으로 갈때마다 1씩 감소함"
   ]
  },
  {
   "cell_type": "code",
   "execution_count": 7,
   "metadata": {},
   "outputs": [
    {
     "name": "stdout",
     "output_type": "stream",
     "text": [
      "4\n",
      "6\n"
     ]
    }
   ],
   "source": [
    "a = [1, 2, 3, 4, 5, 6]\n",
    "print(a[3])\n",
    "print(a[-1])"
   ]
  },
  {
   "cell_type": "markdown",
   "metadata": {},
   "source": [
    "#### **리스트 개별 아이템에 접근**\n",
    " - 인덱스에 접근하여 값을 업데이트 가능"
   ]
  },
  {
   "cell_type": "code",
   "execution_count": 13,
   "metadata": {},
   "outputs": [
    {
     "name": "stdout",
     "output_type": "stream",
     "text": [
      "h\n",
      "jello world\n",
      "jello world\n",
      "jello world\n",
      "hello world\n"
     ]
    }
   ],
   "source": [
    "a = 'hello world' #문자열\n",
    "print(a[0])\n",
    "\n",
    "#a[0] = 'j' \n",
    "## 문자열은 Immutable 이라서 오류가 뜸 \n",
    "\n",
    "b = 'jello world'\n",
    "c = 'j' + a[1:]\n",
    "\n",
    "d= a.replace('h','j') # 치환 느낌. 이렇게 한다 해서 a가 바뀌는 건 아님\n",
    "\n",
    "print(b)\n",
    "print(c)\n",
    "\n",
    "print(d)\n",
    "print(a)"
   ]
  },
  {
   "cell_type": "markdown",
   "metadata": {},
   "source": [
    "#### **리스트 slicing**\n",
    " - 문자열 슬라이싱과 동일하게 동작\n",
    " - 슬라이싱의 결과 역시 list!"
   ]
  },
  {
   "cell_type": "code",
   "execution_count": 19,
   "metadata": {},
   "outputs": [
    {
     "name": "stdout",
     "output_type": "stream",
     "text": [
      "[5, 6, 7]\n",
      "[2, 3, 4, 5, 6, 7]\n",
      "[2, 4, 6]\n"
     ]
    }
   ],
   "source": [
    "a = [1, 2, 3, 4, 5, 6, 7, 8]\n",
    "print(a[4:7])\n",
    "\n",
    "\n",
    "## slicing\n",
    "# start : end : increment\n",
    "\n",
    "print(a[1:7])\n",
    "\n",
    "print(a[1:7:2])"
   ]
  },
  {
   "cell_type": "markdown",
   "metadata": {},
   "source": [
    "### list 멤버 함수\n",
    " - 생성된 리스트 객체에 동작하는 함수\n",
    " - 향후, 클래스와 멤버 함수 개념을 이해할 예정"
   ]
  },
  {
   "cell_type": "markdown",
   "metadata": {},
   "source": [
    "* **append()**\n",
    " + 리스트의 끝에 항목을 추가함"
   ]
  },
  {
   "cell_type": "code",
   "execution_count": 23,
   "metadata": {},
   "outputs": [
    {
     "name": "stdout",
     "output_type": "stream",
     "text": [
      "[1, 2, 3, 4, 5, 10]\n"
     ]
    }
   ],
   "source": [
    "a = [1,2,3,4,5]\n",
    "a.append(10)\n",
    "\n",
    "print(a)"
   ]
  },
  {
   "cell_type": "markdown",
   "metadata": {},
   "source": [
    "+ **extend()**\n",
    " * 리스트를 연장\n",
    " * += 로도 가능함"
   ]
  },
  {
   "cell_type": "code",
   "execution_count": 29,
   "metadata": {},
   "outputs": [
    {
     "name": "stdout",
     "output_type": "stream",
     "text": [
      "[1, 2, 3, 4, 5, 6, 7, 8, 9, 10]\n"
     ]
    }
   ],
   "source": [
    "a = [1,2,3,4,5]\n",
    "b = [6,7,8,9,10]\n",
    "\n",
    "# [1,2,3,4,5,6,7,8,9,10]을 만들고 싶어\n",
    "\n",
    "# a.append(b)\n",
    "# print(a)\n",
    "# print(a[5])\n",
    "\n",
    "a += b\n",
    "print(a)"
   ]
  },
  {
   "cell_type": "markdown",
   "metadata": {},
   "source": [
    "+ **insert()로 항목추가**\n",
    " * 리스트의 원하는 위치에 추가 가능\n",
    " * 앞에 인덱스를, 뒤에 아이템을 명시"
   ]
  },
  {
   "cell_type": "code",
   "execution_count": 31,
   "metadata": {},
   "outputs": [
    {
     "name": "stdout",
     "output_type": "stream",
     "text": [
      "[1, 40, 2, 3, 4, 5]\n"
     ]
    }
   ],
   "source": [
    "a = [1,2,3,4,5]\n",
    "a.insert(1, 40) # 1 뒤에 뭐를 추가하겠다\n",
    "\n",
    "print(a)"
   ]
  },
  {
   "cell_type": "markdown",
   "metadata": {},
   "source": [
    "+ **remove()**\n",
    " * 값으로 항목 삭제"
   ]
  },
  {
   "cell_type": "code",
   "execution_count": 33,
   "metadata": {},
   "outputs": [
    {
     "name": "stdout",
     "output_type": "stream",
     "text": [
      "[1, 3, 4, 5]\n",
      "[1, 1, 3, 4, 5]\n"
     ]
    }
   ],
   "source": [
    "a = [1,2,3,4,5]\n",
    "a.remove(2) # 값으로 지우는 거라 지우는 값을 넣어야 함\n",
    "\n",
    "print(a)\n",
    "\n",
    "b = [1,1,1,3,4,5] # 지우는 값이 여러개면 맨 앞에 거를 지움\n",
    "b.remove(1) \n",
    "print(b)\n",
    "\n",
    "# 만약 내가 지울 value가 해당 리스트에 없으면 -> 오류 발생"
   ]
  },
  {
   "cell_type": "markdown",
   "metadata": {},
   "source": [
    "+ **pop()**\n",
    "  - 지우고자 하는 아이템을 반환 후, 삭제"
   ]
  },
  {
   "cell_type": "code",
   "execution_count": 35,
   "metadata": {},
   "outputs": [
    {
     "name": "stdout",
     "output_type": "stream",
     "text": [
      "[1, 2, 3, 4]\n"
     ]
    }
   ],
   "source": [
    "a = [1,2,3,4,5]\n",
    "a.pop() #값을 안 쓰면 마지막 거를 지움 \n",
    "\n",
    "print(a)\n"
   ]
  },
  {
   "cell_type": "markdown",
   "metadata": {},
   "source": [
    "+ **index()**\n",
    " * 찾고자 하는 값의 인덱스 반환"
   ]
  },
  {
   "cell_type": "code",
   "execution_count": 36,
   "metadata": {},
   "outputs": [
    {
     "data": {
      "text/plain": [
       "3"
      ]
     },
     "execution_count": 36,
     "metadata": {},
     "output_type": "execute_result"
    }
   ],
   "source": [
    "a = [2,6,7,9,10]\n",
    "a.index(9)"
   ]
  },
  {
   "cell_type": "markdown",
   "metadata": {},
   "source": [
    "* **in 키워드**\n",
    " + 리스트 내에 해당 값이 존재하는지 확인\n",
    " + value in [list]\n",
    " + True, False 중 한가지로 반환"
   ]
  },
  {
   "cell_type": "code",
   "execution_count": 37,
   "metadata": {},
   "outputs": [
    {
     "name": "stdout",
     "output_type": "stream",
     "text": [
      "False\n"
     ]
    }
   ],
   "source": [
    "a = [1,2,3,4,5,6]\n",
    "b = [7]\n",
    "\n",
    "c = b in a # a에 b가 있냐 없냐 -> true/false로 반환\n",
    "print(c)\n",
    "\n"
   ]
  },
  {
   "cell_type": "markdown",
   "metadata": {},
   "source": [
    "* **list 정렬**\n",
    " + sort() -> 리스트 자체를 내부적으로 정렬\n",
    " + sorted() -> 리스트의 정렬된 복사본을 반환"
   ]
  },
  {
   "cell_type": "code",
   "execution_count": 40,
   "metadata": {},
   "outputs": [
    {
     "name": "stdout",
     "output_type": "stream",
     "text": [
      "[5, 7, 9, 10, 18, 19, 21]\n",
      "[21, 19, 18, 10, 9, 7, 5]\n",
      "[5, 7, 9, 10, 18, 19, 21]\n"
     ]
    }
   ],
   "source": [
    "a = [9,10,7,19,21,5,18]\n",
    "a.sort()\n",
    "\n",
    "print(a) # 작은 순서대로\n",
    "\n",
    "a.sort(reverse = True) # 내림차순으로 \n",
    "print(a)\n",
    "\n",
    "d = sorted(a) # 이런 내장함수를 써서 할 수도 있다 \n",
    "print(d)"
   ]
  },
  {
   "cell_type": "markdown",
   "metadata": {},
   "source": [
    "### **tuple**\n",
    " - 리스트와 같이 복수개의 값을 갖는 컬렉션 타입\n",
    " - 생성된 후 변경이 불가능"
   ]
  },
  {
   "cell_type": "code",
   "execution_count": 44,
   "metadata": {},
   "outputs": [
    {
     "name": "stdout",
     "output_type": "stream",
     "text": [
      "<class 'list'>\n",
      "<class 'tuple'>\n"
     ]
    }
   ],
   "source": [
    "a = [1,2,3] #list\n",
    "b = (1,2,3) #tuple\n",
    "\n",
    "print(type(a))\n",
    "print(type(b))\n",
    "\n",
    "#a[0] = 100\n",
    "#print(a)\n",
    "\n",
    "#b[0] = 100\n",
    "#print(b) --> immutable"
   ]
  },
  {
   "cell_type": "markdown",
   "metadata": {},
   "source": [
    "#### **tuple unpacking**\n",
    " - 튜플의 값을 차례대로 변수에 대입"
   ]
  },
  {
   "cell_type": "code",
   "execution_count": 46,
   "metadata": {},
   "outputs": [
    {
     "name": "stdout",
     "output_type": "stream",
     "text": [
      "100 200\n"
     ]
    }
   ],
   "source": [
    "a = (100, 200)\n",
    "type(a)\n",
    "\n",
    "b, c = 100, 200 \n",
    "print(b, c)\n",
    "\n"
   ]
  },
  {
   "cell_type": "markdown",
   "metadata": {},
   "source": [
    "* **연습문제** a와 b의 값을 교환하시오"
   ]
  },
  {
   "cell_type": "code",
   "execution_count": 52,
   "metadata": {},
   "outputs": [
    {
     "name": "stdout",
     "output_type": "stream",
     "text": [
      "5 4\n",
      "4 5\n",
      "5 4\n"
     ]
    }
   ],
   "source": [
    "a = 5\n",
    "b = 4\n",
    "\n",
    "print(a,b)\n",
    "\n",
    "# 내가 원하는 건 a = 4, b = 5 가 나오도록 하는 거다\n",
    "# b = a\n",
    "# a = b\n",
    "# print(a,b)\n",
    "\n",
    "# logic\n",
    "temp = a #a 라는 값을 임시로 담아둠\n",
    "a = b\n",
    "b = temp\n",
    "\n",
    "print(a,b)\n",
    "\n",
    "a, b = b, a\n",
    "print(a,b)"
   ]
  }
 ],
 "metadata": {
  "kernelspec": {
   "display_name": "Python 3 (ipykernel)",
   "language": "python",
   "name": "python3"
  },
  "language_info": {
   "codemirror_mode": {
    "name": "ipython",
    "version": 3
   },
   "file_extension": ".py",
   "mimetype": "text/x-python",
   "name": "python",
   "nbconvert_exporter": "python",
   "pygments_lexer": "ipython3",
   "version": "3.11.5"
  }
 },
 "nbformat": 4,
 "nbformat_minor": 1
}
