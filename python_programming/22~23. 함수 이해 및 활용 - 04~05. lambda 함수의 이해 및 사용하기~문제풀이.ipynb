{
 "cells": [
  {
   "cell_type": "markdown",
   "metadata": {},
   "source": [
    "\n",
    "\n",
    "### 학습목표\n",
    " 2. Lambda 함수 이해 및 사용"
   ]
  },
  {
   "cell_type": "markdown",
   "metadata": {},
   "source": [
    "* **Lambda 함수**\n",
    " + 단일문으로 표현되는 익명함수\n",
    " + 익명함수란 이름이 없는 구현체만 존재하는 간단한 함수를 의미\n",
    " + 코드 상에서 한번만 사용되는 기능이 있을 때, 굳이 함수로 만들지 않고 1회성으로 만들어서 쓸 때 사용."
   ]
  },
  {
   "cell_type": "code",
   "execution_count": 2,
   "metadata": {},
   "outputs": [
    {
     "name": "stdout",
     "output_type": "stream",
     "text": [
      "<class 'function'>\n"
     ]
    },
    {
     "data": {
      "text/plain": [
       "25"
      ]
     },
     "execution_count": 2,
     "metadata": {},
     "output_type": "execute_result"
    }
   ],
   "source": [
    "square = lambda x: x**2\n",
    "print(type(square))\n",
    "\n",
    "square(5)"
   ]
  },
  {
   "cell_type": "code",
   "execution_count": 4,
   "metadata": {},
   "outputs": [
    {
     "data": {
      "text/plain": [
       "30"
      ]
     },
     "execution_count": 4,
     "metadata": {},
     "output_type": "execute_result"
    }
   ],
   "source": [
    "def add(x,y):\n",
    "    return x + y\n",
    "\n",
    "# 간단한 함수인 경우 람다 함수 쓸 수 있음 \n",
    "# 굳이 필요한가? 이건 그냥 코드를 좀 더 간결하게 하기 위한거임  \n",
    "\n",
    "add2 = lambda x,y : x + y\n",
    "add2(10,20)"
   ]
  },
  {
   "cell_type": "code",
   "execution_count": 8,
   "metadata": {},
   "outputs": [
    {
     "data": {
      "text/plain": [
       "5"
      ]
     },
     "execution_count": 8,
     "metadata": {},
     "output_type": "execute_result"
    }
   ],
   "source": [
    "def str_len(s):\n",
    "    return len(s)\n",
    "\n",
    "str_len('goods')"
   ]
  },
  {
   "cell_type": "code",
   "execution_count": 10,
   "metadata": {},
   "outputs": [
    {
     "name": "stdout",
     "output_type": "stream",
     "text": [
      "['bob', 'teddy', 'charles', 'alexander3']\n"
     ]
    }
   ],
   "source": [
    "strings = ['bob', 'charles', 'alexander3', 'teddy']\n",
    "#strings.sort(key = str_len) #위에 문자열 길이를 기준으로 정렬하고 싶을때\n",
    "strings.sort(key = lambda s: len(s)) # 좀 더 파이썬스러움, 따로 공간 낭비 없이 한 줄로 정리하고자 할 때\n",
    "\n",
    "print(strings)"
   ]
  },
  {
   "cell_type": "markdown",
   "metadata": {},
   "source": [
    "#### **filter, map, reduce**\n",
    " + lambda가 유용하게 사용되는 3가지 대표적 함수\n",
    " + 함수형 프로그래밍의 기본 요소이기도 함\n",
    " + filter : 특정 조건을 만족하는 요소만 남기고 필터링\n",
    " + map    : 각 원소를 주어진 수식에 따라 변형하여 새로운 리스트를 반환\n",
    " + reduce : 차례대로 앞 2개의 원소를 가지고 연산. 연산의 결과가 또 다음 연산의 입력으로 진행됨. 따라서 마지막까지 진행되면 최종 출력은 한개의 값만 남게 됨"
   ]
  },
  {
   "cell_type": "code",
   "execution_count": 15,
   "metadata": {},
   "outputs": [
    {
     "ename": "NameError",
     "evalue": "name '함수' is not defined",
     "output_type": "error",
     "traceback": [
      "\u001b[0;31m---------------------------------------------------------------------------\u001b[0m",
      "\u001b[0;31mNameError\u001b[0m                                 Traceback (most recent call last)",
      "Cell \u001b[0;32mIn[15], line 1\u001b[0m\n\u001b[0;32m----> 1\u001b[0m \u001b[38;5;28mfilter\u001b[39m(함수, 리스트)\n",
      "\u001b[0;31mNameError\u001b[0m: name '함수' is not defined"
     ]
    }
   ],
   "source": [
    "filter(함수, 리스트) # 리스트를 주어진 조건에 따라 필터링 하는 거, 예시로 확인할게요"
   ]
  },
  {
   "cell_type": "code",
   "execution_count": 16,
   "metadata": {},
   "outputs": [
    {
     "data": {
      "text/plain": [
       "False"
      ]
     },
     "execution_count": 16,
     "metadata": {},
     "output_type": "execute_result"
    }
   ],
   "source": [
    "def even(n):\n",
    "    return n % 2 == 0\n",
    "\n",
    "even(3)"
   ]
  },
  {
   "cell_type": "code",
   "execution_count": 19,
   "metadata": {},
   "outputs": [
    {
     "data": {
      "text/plain": [
       "[2, 4, 6, 8]"
      ]
     },
     "execution_count": 19,
     "metadata": {},
     "output_type": "execute_result"
    }
   ],
   "source": [
    "nums = [1, 2, 3, 4, 6, 8]\n",
    "\n",
    "list(filter(even,nums)) # 짝수를 갖는 리스트로 필터링 됨."
   ]
  },
  {
   "cell_type": "code",
   "execution_count": 21,
   "metadata": {},
   "outputs": [
    {
     "data": {
      "text/plain": [
       "[2, 4, 6, 8]"
      ]
     },
     "execution_count": 21,
     "metadata": {},
     "output_type": "execute_result"
    }
   ],
   "source": [
    "nums = [1, 2, 3, 4, 6, 8]\n",
    "\n",
    "list(filter(lambda n: n%2 ==0,nums)) # 짝수를 갖는 리스트로 필터링 됨, 람다 함수로 작성한 거"
   ]
  },
  {
   "cell_type": "code",
   "execution_count": 23,
   "metadata": {},
   "outputs": [
    {
     "data": {
      "text/plain": [
       "[1, 4, 9, 16, 36, 64]"
      ]
     },
     "execution_count": 23,
     "metadata": {},
     "output_type": "execute_result"
    }
   ],
   "source": [
    "# map \n",
    "# 주어진 리스트, 리스트의 제곱을 한 숫자로 이루어진 새로운 리스트를 만드는 거 \n",
    "nums = [1, 2, 3, 4, 6, 8]\n",
    "#map(함수, 리스트 )\n",
    "\n",
    "list(map(lambda n: n**2, nums))"
   ]
  },
  {
   "cell_type": "code",
   "execution_count": 24,
   "metadata": {},
   "outputs": [
    {
     "data": {
      "text/plain": [
       "[False, True, False, True, True, True]"
      ]
     },
     "execution_count": 24,
     "metadata": {},
     "output_type": "execute_result"
    }
   ],
   "source": [
    "list(map(even, nums))"
   ]
  },
  {
   "cell_type": "code",
   "execution_count": 28,
   "metadata": {},
   "outputs": [
    {
     "data": {
      "text/plain": [
       "120"
      ]
     },
     "execution_count": 28,
     "metadata": {},
     "output_type": "execute_result"
    }
   ],
   "source": [
    "#reduce\n",
    "\n",
    "import functools \n",
    "\n",
    "a = [1,3,5,8]\n",
    "\n",
    "# 리스트 내의 모든 숫자의 합 \n",
    "functools.reduce(lambda x,y: x+y, a)"
   ]
  },
  {
   "cell_type": "markdown",
   "metadata": {},
   "source": [
    "\n",
    "#### 함수 연습문제\n",
    " 1. 주어진 숫자 리스트의 평균을 구하는 함수를 출력하시오\n",
    " 1. 해당 숫자가 소수인지 아닌지 판별하시오.\n",
    " 2. 2부터 해당 숫자사이에 소수가 몇개인지 출력하는 함수를 구하시오 "
   ]
  },
  {
   "cell_type": "code",
   "execution_count": 9,
   "metadata": {},
   "outputs": [
    {
     "name": "stdout",
     "output_type": "stream",
     "text": [
      "12.0\n"
     ]
    }
   ],
   "source": [
    "# 1. 주어진 숫자 리스트의 평균을 구하는 함수 \n",
    "\n",
    "def cal_avg(numbers):\n",
    "    total = sum(numbers)  # 리스트의 요소들의 합\n",
    "    count = len(numbers)  # 리스트의 요소 개수\n",
    "    average = total / count  # 평균 계산\n",
    "    return average\n",
    "\n",
    "\n",
    "numbers = [1,2,3,4,56,6]\n",
    "print(cal_avg(numbers))\n",
    "        "
   ]
  },
  {
   "cell_type": "code",
   "execution_count": 20,
   "metadata": {},
   "outputs": [
    {
     "name": "stdout",
     "output_type": "stream",
     "text": [
      "2.0\n",
      "20.75\n"
     ]
    }
   ],
   "source": [
    "# 1번 해설\n",
    "\n",
    "#입력 : 숫자 리스트\n",
    "#출력 : 숫자 리스트의 평균값\n",
    "\n",
    "def mean(nums):\n",
    "    _sum = 0\n",
    "    for i in nums:\n",
    "            _sum += i\n",
    "            \n",
    "    return _sum / len(nums)\n",
    "\n",
    "print(mean([1,2,3]))\n",
    "print(mean([4,5,67,7]))\n",
    "            "
   ]
  },
  {
   "cell_type": "code",
   "execution_count": 16,
   "metadata": {},
   "outputs": [
    {
     "name": "stdout",
     "output_type": "stream",
     "text": [
      "False\n"
     ]
    }
   ],
   "source": [
    "# 2. 해당 숫자가 소수인지 아닌지 판별\n",
    "\n",
    "def prime_num(p_numbers):\n",
    "    for i in range(2, p_numbers):\n",
    "        if p_numbers % i == 0:\n",
    "            return False\n",
    "    return True\n",
    "\n",
    "print(prime_num(15))"
   ]
  },
  {
   "cell_type": "code",
   "execution_count": 21,
   "metadata": {},
   "outputs": [
    {
     "name": "stdout",
     "output_type": "stream",
     "text": [
      "False\n",
      "True\n"
     ]
    }
   ],
   "source": [
    "# 2번 해설\n",
    "# 입력 : 양의 정수 1개\n",
    "# 출력 : boolean (소수 -> true, 합성수 -> false)\n",
    "\n",
    "def is_prime(num):\n",
    "    # 만약 15가 주어지면, 2,3,4,5,...,14까지 나눠서 나눠떨어지는게 있으면 안 됨\n",
    "    for i in range(2,num):\n",
    "        if num % i == 0: \n",
    "            return False # 나눠 떨어지는 게 하나라도 있으면 소수가 아니기 때문에\n",
    "    return True # for문을 다 끝내면 (즉, 나눠떨어지는 게 하나라도 없다는 걸 의미) 소수라는 뜻 \n",
    "\n",
    "print(is_prime(100))\n",
    "print(is_prime(89))\n",
    "    "
   ]
  },
  {
   "cell_type": "code",
   "execution_count": 18,
   "metadata": {},
   "outputs": [
    {
     "ename": "NameError",
     "evalue": "name 'p_numbers' is not defined",
     "output_type": "error",
     "traceback": [
      "\u001b[0;31m---------------------------------------------------------------------------\u001b[0m",
      "\u001b[0;31mNameError\u001b[0m                                 Traceback (most recent call last)",
      "Cell \u001b[0;32mIn[18], line 4\u001b[0m\n\u001b[1;32m      1\u001b[0m \u001b[38;5;28;01mdef\u001b[39;00m \u001b[38;5;21mcal_pnum\u001b[39m(c_pnum):\n\u001b[1;32m      2\u001b[0m     \u001b[38;5;28mprint\u001b[39m(\u001b[38;5;28mlen\u001b[39m(p_numbers))\n\u001b[0;32m----> 4\u001b[0m cal_pnum(\u001b[38;5;241m19\u001b[39m)\n",
      "Cell \u001b[0;32mIn[18], line 2\u001b[0m, in \u001b[0;36mcal_pnum\u001b[0;34m(c_pnum)\u001b[0m\n\u001b[1;32m      1\u001b[0m \u001b[38;5;28;01mdef\u001b[39;00m \u001b[38;5;21mcal_pnum\u001b[39m(c_pnum):\n\u001b[0;32m----> 2\u001b[0m     \u001b[38;5;28mprint\u001b[39m(\u001b[38;5;28mlen\u001b[39m(p_numbers))\n",
      "\u001b[0;31mNameError\u001b[0m: name 'p_numbers' is not defined"
     ]
    }
   ],
   "source": [
    "# 소수가 몇 개인지 세기\n",
    "def cal_pnum(c_pnum):\n",
    "    print(len(p_numbers))\n",
    "    \n",
    "cal_pnum(19)"
   ]
  },
  {
   "cell_type": "code",
   "execution_count": 23,
   "metadata": {},
   "outputs": [
    {
     "name": "stdout",
     "output_type": "stream",
     "text": [
      "11\n"
     ]
    }
   ],
   "source": [
    "# 3번 해설\n",
    "\n",
    "# 입력 : 특정한 양의 정수 1개\n",
    "# 출력 : 2 ~ 해당 숫자 사이의 소수의 갯수\n",
    "\n",
    "def num_prime(num):\n",
    "    count = 0 \n",
    "    for i in range(2, num + 1):\n",
    "        if is_prime(i):\n",
    "            count += 1\n",
    "            \n",
    "    return count\n",
    "\n",
    "print(num_prime(34))"
   ]
  }
 ],
 "metadata": {
  "kernelspec": {
   "display_name": "Python 3 (ipykernel)",
   "language": "python",
   "name": "python3"
  },
  "language_info": {
   "codemirror_mode": {
    "name": "ipython",
    "version": 3
   },
   "file_extension": ".py",
   "mimetype": "text/x-python",
   "name": "python",
   "nbconvert_exporter": "python",
   "pygments_lexer": "ipython3",
   "version": "3.11.5"
  }
 },
 "nbformat": 4,
 "nbformat_minor": 1
}
